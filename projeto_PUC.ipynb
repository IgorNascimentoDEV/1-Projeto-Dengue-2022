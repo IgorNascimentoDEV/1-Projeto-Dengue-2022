{
  "nbformat": 4,
  "nbformat_minor": 0,
  "metadata": {
    "colab": {
      "provenance": [],
      "mount_file_id": "https://github.com/IgorNascimentoDEV/1-Projeto_PUC/blob/main/projeto_PUC.ipynb",
      "authorship_tag": "ABX9TyPZdhWokoYnLI6vvu3FWWfR",
      "include_colab_link": true
    },
    "kernelspec": {
      "name": "python3",
      "display_name": "Python 3"
    },
    "language_info": {
      "name": "python"
    }
  },
  "cells": [
    {
      "cell_type": "markdown",
      "metadata": {
        "id": "view-in-github",
        "colab_type": "text"
      },
      "source": [
        "<a href=\"https://colab.research.google.com/github/IgorNascimentoDEV/1-Projeto_PUC/blob/main/projeto_PUC.ipynb\" target=\"_parent\"><img src=\"https://colab.research.google.com/assets/colab-badge.svg\" alt=\"Open In Colab\"/></a>"
      ]
    },
    {
      "cell_type": "markdown",
      "source": [
        "**Análise de Dados do DataSus**\n",
        "\n",
        "Projeto de desenvolvimento de Aplicação para Tratamento de Dados - Turma 01 - 2023/2, vamos explorar e analisar os dados sobre casos de Dengue em 2022 fornecidos pelo Sistema de Informações Hospitalares do Sistema Único de Saúde (DataSus). Nosso objetivo é obter insights valiosos a partir desses dados e extrair informações úteis para futuras tomadas de decisão e análises."
      ],
      "metadata": {
        "id": "c_dimVpuDvc-"
      }
    },
    {
      "cell_type": "markdown",
      "source": [
        "**1. Configuração do Ambiente**\n",
        "\n",
        "Antes de começarmos, vamos garantir que todas as bibliotecas necessárias estejam instaladas e configuradas."
      ],
      "metadata": {
        "id": "Uozr4PZLRX0f"
      }
    },
    {
      "cell_type": "code",
      "execution_count": 4,
      "metadata": {
        "id": "rawcS5hSxCy3"
      },
      "outputs": [],
      "source": [
        "#blibioteca responsavel por fazer a manipulação dos dados\n",
        "import pandas as pd\n",
        "pd.set_option('display.max_columns', None)\n",
        "\n",
        "#biblioteca responsavel pela criação de graficos.\n",
        "import matplotlib.pyplot as plt\n",
        "plt.style.use('seaborn-talk')\n",
        "import warnings\n",
        "warnings.filterwarnings(\"ignore\")"
      ]
    },
    {
      "cell_type": "markdown",
      "source": [
        "**2. Carregamento dos Dados**\n",
        "\n",
        "Nessa etapa vamos utilizar o Pandas pra ler nossa base de dados que está localizada no Driver e armazenar todos os valores do csv na variavel dados."
      ],
      "metadata": {
        "id": "TuS2o6EMQO3V"
      }
    },
    {
      "cell_type": "code",
      "source": [
        "dados = pd.read_csv('/content/drive/MyDrive/Projeto PUC/DENGBR22.csv')"
      ],
      "metadata": {
        "id": "biLUREvrxnAv"
      },
      "execution_count": 2,
      "outputs": []
    },
    {
      "cell_type": "markdown",
      "source": [
        "**3. Exploração Inicial dos Dados**\n",
        "\n",
        "Vamos começar explorando os dados para entender sua estrutura e conteúdo."
      ],
      "metadata": {
        "id": "26HPbTG9RM03"
      }
    },
    {
      "cell_type": "code",
      "source": [
        "#Primeira visualização dos dados\n",
        "dados.head()"
      ],
      "metadata": {
        "id": "AOcg7WSdKqEc"
      },
      "execution_count": null,
      "outputs": []
    },
    {
      "cell_type": "code",
      "source": [
        "#Visalizando colunas e tipos\n",
        "colunas = dados.columns\n",
        "\n",
        "# Obtém o nome de todas as colunas e seus tipos\n",
        "colunas_e_tipos = [(coluna, tipo) for coluna, tipo in zip(dados.columns, dados.dtypes)]\n",
        "\n",
        "# Exibe as informações das colunas e tipos\n",
        "for coluna, tipo in colunas_e_tipos:\n",
        "    print(f\"Coluna: {coluna}, Tipo: {tipo}\")"
      ],
      "metadata": {
        "id": "ejvnlRbp2-So"
      },
      "execution_count": null,
      "outputs": []
    },
    {
      "cell_type": "code",
      "source": [
        "#Conta a quantidade de valores nulos (NaN) em cada coluna\n",
        "dados.isna().sum()"
      ],
      "metadata": {
        "id": "E-qBhp6IQwTP"
      },
      "execution_count": null,
      "outputs": []
    },
    {
      "cell_type": "code",
      "source": [
        "#Mostra a quantidade total de valores nulos de toda a base de dados\n",
        "dados.isna().sum().sum()\n"
      ],
      "metadata": {
        "id": "SYe1NvSjNSXj"
      },
      "execution_count": null,
      "outputs": []
    },
    {
      "cell_type": "markdown",
      "source": [
        "--------------------------------------------------teste-------------------------"
      ],
      "metadata": {
        "id": "fpwE5CvcghG0"
      }
    },
    {
      "cell_type": "code",
      "source": [
        "for col in dados.columns:\n",
        "    print(col)"
      ],
      "metadata": {
        "id": "jr9p1FCngkcq",
        "outputId": "fe5215b3-9912-42a3-9598-ae1e12eb4b04",
        "colab": {
          "base_uri": "https://localhost:8080/"
        }
      },
      "execution_count": 8,
      "outputs": [
        {
          "output_type": "stream",
          "name": "stdout",
          "text": [
            "TP_NOT\n",
            "ID_AGRAVO\n",
            "DT_NOTIFIC\n",
            "SEM_NOT\n",
            "NU_ANO\n",
            "SG_UF_NOT\n",
            "ID_MUNICIP\n",
            "ID_REGIONA\n",
            "ID_UNIDADE\n",
            "DT_SIN_PRI\n",
            "SEM_PRI\n",
            "ANO_NASC\n",
            "NU_IDADE_N\n",
            "CS_SEXO\n",
            "CS_GESTANT\n",
            "CS_RACA\n",
            "CS_ESCOL_N\n",
            "SG_UF\n",
            "ID_MN_RESI\n",
            "ID_RG_RESI\n",
            "ID_PAIS\n",
            "DT_INVEST\n",
            "ID_OCUPA_N\n",
            "FEBRE\n",
            "MIALGIA\n",
            "CEFALEIA\n",
            "EXANTEMA\n",
            "VOMITO\n",
            "NAUSEA\n",
            "DOR_COSTAS\n",
            "CONJUNTVIT\n",
            "ARTRITE\n",
            "ARTRALGIA\n",
            "PETEQUIA_N\n",
            "LEUCOPENIA\n",
            "LACO\n",
            "DOR_RETRO\n",
            "DIABETES\n",
            "HEMATOLOG\n",
            "HEPATOPAT\n",
            "RENAL\n",
            "HIPERTENSA\n",
            "ACIDO_PEPT\n",
            "AUTO_IMUNE\n",
            "DT_CHIK_S1\n",
            "DT_CHIK_S2\n",
            "DT_PRNT\n",
            "RES_CHIKS1\n",
            "RES_CHIKS2\n",
            "RESUL_PRNT\n",
            "DT_SORO\n",
            "RESUL_SORO\n",
            "DT_NS1\n",
            "RESUL_NS1\n",
            "DT_VIRAL\n",
            "RESUL_VI_N\n",
            "DT_PCR\n",
            "RESUL_PCR_\n",
            "SOROTIPO\n",
            "HISTOPA_N\n",
            "IMUNOH_N\n",
            "HOSPITALIZ\n",
            "DT_INTERNA\n",
            "UF\n",
            "MUNICIPIO\n",
            "TPAUTOCTO\n",
            "COUFINF\n",
            "COPAISINF\n",
            "COMUNINF\n",
            "CLASSI_FIN\n",
            "CRITERIO\n",
            "DOENCA_TRA\n",
            "CLINC_CHIK\n",
            "EVOLUCAO\n",
            "DT_OBITO\n",
            "DT_ENCERRA\n",
            "ALRM_HIPOT\n",
            "ALRM_PLAQ\n",
            "ALRM_VOM\n",
            "ALRM_SANG\n",
            "ALRM_HEMAT\n",
            "ALRM_ABDOM\n",
            "ALRM_LETAR\n",
            "ALRM_HEPAT\n",
            "ALRM_LIQ\n",
            "DT_ALRM\n",
            "GRAV_PULSO\n",
            "GRAV_CONV\n",
            "GRAV_ENCH\n",
            "GRAV_INSUF\n",
            "GRAV_TAQUI\n",
            "GRAV_EXTRE\n",
            "GRAV_HIPOT\n",
            "GRAV_HEMAT\n",
            "GRAV_MELEN\n",
            "GRAV_METRO\n",
            "GRAV_SANG\n",
            "GRAV_AST\n",
            "GRAV_MIOC\n",
            "GRAV_CONSC\n",
            "GRAV_ORGAO\n",
            "DT_GRAV\n",
            "MANI_HEMOR\n",
            "EPISTAXE\n",
            "GENGIVO\n",
            "METRO\n",
            "PETEQUIAS\n",
            "HEMATURA\n",
            "SANGRAM\n",
            "LACO_N\n",
            "PLASMATICO\n",
            "EVIDENCIA\n",
            "PLAQ_MENOR\n",
            "CON_FHD\n",
            "COMPLICA\n",
            "TP_SISTEMA\n",
            "NDUPLIC_N\n",
            "DT_DIGITA\n",
            "CS_FLXRET\n",
            "FLXRECEBI\n",
            "MIGRADO_W\n"
          ]
        }
      ]
    }
  ]
}