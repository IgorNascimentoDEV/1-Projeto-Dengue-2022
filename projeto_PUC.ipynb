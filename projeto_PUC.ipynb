{
  "nbformat": 4,
  "nbformat_minor": 0,
  "metadata": {
    "colab": {
      "provenance": [],
      "mount_file_id": "1UDE-VkxvcFmtHSy0ChG8LgCnJIm9Tbbh",
      "authorship_tag": "ABX9TyPDR1CxGlZuV5/xyWUZuJJY",
      "include_colab_link": true
    },
    "kernelspec": {
      "name": "python3",
      "display_name": "Python 3"
    },
    "language_info": {
      "name": "python"
    }
  },
  "cells": [
    {
      "cell_type": "markdown",
      "metadata": {
        "id": "view-in-github",
        "colab_type": "text"
      },
      "source": [
        "<a href=\"https://colab.research.google.com/github/IgorNascimentoDEV/1-Projeto_PUC/blob/main/projeto_PUC.ipynb\" target=\"_parent\"><img src=\"https://colab.research.google.com/assets/colab-badge.svg\" alt=\"Open In Colab\"/></a>"
      ]
    },
    {
      "cell_type": "markdown",
      "source": [
        "**Análise de Dados do DataSus**\n",
        "\n",
        "Projeto de desenvolvimento de Aplicação para Tratamento de Dados - Turma 01 - 2023/2, vamos explorar e analisar os dados sobre casos de Dengue em 2022 fornecidos pelo Sistema de Informações Hospitalares do Sistema Único de Saúde (DataSus). Nosso objetivo é obter insights valiosos a partir desses dados e extrair informações úteis para futuras tomadas de decisão e análises."
      ],
      "metadata": {
        "id": "c_dimVpuDvc-"
      }
    },
    {
      "cell_type": "markdown",
      "source": [
        "**1. Configuração do Ambiente**\n",
        "\n",
        "Antes de começarmos, vamos garantir que todas as bibliotecas necessárias estejam instaladas e configuradas."
      ],
      "metadata": {
        "id": "Uozr4PZLRX0f"
      }
    },
    {
      "cell_type": "code",
      "execution_count": null,
      "metadata": {
        "id": "rawcS5hSxCy3"
      },
      "outputs": [],
      "source": [
        "#blibioteca responsavel por fazer a manipulação dos dados\n",
        "import pandas as pd\n",
        "pd.set_option('display.max_columns', None)\n",
        "\n",
        "#biblioteca responsavel pela criação de graficos.\n",
        "import matplotlib.pyplot as plt\n",
        "plt.style.use('seaborn-talk')\n",
        "import warnings\n",
        "warnings.filterwarnings(\"ignore\")"
      ]
    },
    {
      "cell_type": "markdown",
      "source": [
        "**2. Carregamento dos Dados**\n",
        "\n",
        "Nessa etapa vamos utilizar o Pandas pra ler nossa base de dados que está localizada no Driver e armazenar todos os valores do csv na variavel dados."
      ],
      "metadata": {
        "id": "TuS2o6EMQO3V"
      }
    },
    {
      "cell_type": "code",
      "source": [
        "dados = pd.read_csv('/content/drive/MyDrive/Projeto PUC/DENGBR22.csv')"
      ],
      "metadata": {
        "id": "biLUREvrxnAv"
      },
      "execution_count": 2,
      "outputs": []
    },
    {
      "cell_type": "markdown",
      "source": [
        "**3. Exploração Inicial dos Dados**\n",
        "\n",
        "Vamos começar explorando os dados para entender sua estrutura e conteúdo."
      ],
      "metadata": {
        "id": "26HPbTG9RM03"
      }
    },
    {
      "cell_type": "code",
      "source": [
        "colunas = dados.columns"
      ],
      "metadata": {
        "id": "E-qBhp6IQwTP"
      },
      "execution_count": 3,
      "outputs": []
    },
    {
      "cell_type": "code",
      "source": [
        "\n",
        "# Obtém o nome de todas as colunas e seus tipos\n",
        "colunas_e_tipos = [(coluna, tipo) for coluna, tipo in zip(dados.columns, dados.dtypes)]"
      ],
      "metadata": {
        "id": "tbijsIWM249Z"
      },
      "execution_count": 4,
      "outputs": []
    },
    {
      "cell_type": "code",
      "source": [
        "# Exibe as informações das colunas e tipos\n",
        "for coluna, tipo in colunas_e_tipos:\n",
        "    print(f\"Coluna: {coluna}, Tipo: {tipo}\")"
      ],
      "metadata": {
        "id": "ejvnlRbp2-So"
      },
      "execution_count": null,
      "outputs": []
    }
  ]
}