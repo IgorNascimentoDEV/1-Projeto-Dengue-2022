{
  "nbformat": 4,
  "nbformat_minor": 0,
  "metadata": {
    "colab": {
      "provenance": [],
      "mount_file_id": "1UDE-VkxvcFmtHSy0ChG8LgCnJIm9Tbbh",
      "authorship_tag": "ABX9TyM4NXnXPYLqLNvL3M+RJF8v",
      "include_colab_link": true
    },
    "kernelspec": {
      "name": "python3",
      "display_name": "Python 3"
    },
    "language_info": {
      "name": "python"
    }
  },
  "cells": [
    {
      "cell_type": "markdown",
      "metadata": {
        "id": "view-in-github",
        "colab_type": "text"
      },
      "source": [
        "<a href=\"https://colab.research.google.com/github/IgorNascimentoDEV/1-Projeto_PUC/blob/main/projeto_PUC.ipynb\" target=\"_parent\"><img src=\"https://colab.research.google.com/assets/colab-badge.svg\" alt=\"Open In Colab\"/></a>"
      ]
    },
    {
      "cell_type": "markdown",
      "source": [
        "**Análise de Dados do DataSus**\n",
        "\n",
        "Projeto de desenvolvimento de Aplicação para Tratamento de Dados - Turma 01 - 2023/2, vamos explorar e analisar os dados sobre casos de Dengue em 2022 fornecidos pelo Sistema de Informações Hospitalares do Sistema Único de Saúde (DataSus). Nosso objetivo é obter insights valiosos a partir desses dados e extrair informações úteis para futuras tomadas de decisão e análises."
      ],
      "metadata": {
        "id": "c_dimVpuDvc-"
      }
    },
    {
      "cell_type": "markdown",
      "source": [
        "**1. Configuração do Ambiente**\n",
        "\n",
        "Antes de começarmos, vamos garantir que todas as bibliotecas necessárias estejam instaladas e configuradas."
      ],
      "metadata": {
        "id": "Uozr4PZLRX0f"
      }
    },
    {
      "cell_type": "code",
      "execution_count": 2,
      "metadata": {
        "id": "rawcS5hSxCy3",
        "colab": {
          "base_uri": "https://localhost:8080/"
        },
        "outputId": "8ccbd959-e0ab-497b-c665-86371240dd74"
      },
      "outputs": [
        {
          "output_type": "stream",
          "name": "stderr",
          "text": [
            "<ipython-input-2-e9cd548e20fc>:7: MatplotlibDeprecationWarning: The seaborn styles shipped by Matplotlib are deprecated since 3.6, as they no longer correspond to the styles shipped by seaborn. However, they will remain available as 'seaborn-v0_8-<style>'. Alternatively, directly use the seaborn API instead.\n",
            "  plt.style.use('seaborn-talk')\n"
          ]
        }
      ],
      "source": [
        "#blibioteca responsavel por fazer a manipulação dos dados\n",
        "import pandas as pd\n",
        "pd.set_option('display.max_columns', None)\n",
        "\n",
        "#biblioteca responsavel pela criação de graficos.\n",
        "import matplotlib.pyplot as plt\n",
        "plt.style.use('seaborn-talk')\n",
        "import warnings\n",
        "warnings.filterwarnings(\"ignore\")"
      ]
    },
    {
      "cell_type": "markdown",
      "source": [
        "**2. Carregamento dos Dados**\n",
        "\n",
        "Nessa etapa vamos utilizar o Pandas pra ler nossa base de dados que está localizada no Driver e armazenar todos os valores do csv na variavel dados."
      ],
      "metadata": {
        "id": "TuS2o6EMQO3V"
      }
    },
    {
      "cell_type": "code",
      "source": [
        "dados = pd.read_csv('/content/drive/MyDrive/Projeto PUC/DENGBR22.csv')"
      ],
      "metadata": {
        "id": "biLUREvrxnAv"
      },
      "execution_count": 3,
      "outputs": []
    },
    {
      "cell_type": "markdown",
      "source": [
        "**3. Exploração Inicial dos Dados**\n",
        "\n",
        "Vamos começar explorando os dados para entender sua estrutura e conteúdo."
      ],
      "metadata": {
        "id": "26HPbTG9RM03"
      }
    },
    {
      "cell_type": "code",
      "source": [
        "#Primeira visualização dos dados\n",
        "dados.head()"
      ],
      "metadata": {
        "id": "AOcg7WSdKqEc"
      },
      "execution_count": null,
      "outputs": []
    },
    {
      "cell_type": "code",
      "source": [
        "#Visalizando colunas e tipos\n",
        "colunas = dados.columns\n",
        "\n",
        "# Obtém o nome de todas as colunas e seus tipos\n",
        "colunas_e_tipos = [(coluna, tipo) for coluna, tipo in zip(dados.columns, dados.dtypes)]\n",
        "\n",
        "# Exibe as informações das colunas e tipos\n",
        "for coluna, tipo in colunas_e_tipos:\n",
        "    print(f\"Coluna: {coluna}, Tipo: {tipo}\")"
      ],
      "metadata": {
        "id": "ejvnlRbp2-So"
      },
      "execution_count": null,
      "outputs": []
    },
    {
      "cell_type": "code",
      "source": [
        "#Conta a quantidade de valores nulos (NaN) em cada coluna\n",
        "dados.isna().sum()"
      ],
      "metadata": {
        "id": "E-qBhp6IQwTP"
      },
      "execution_count": null,
      "outputs": []
    },
    {
      "cell_type": "code",
      "source": [
        "#Mostra a quantidade total de valores nulos de toda a base de dados\n",
        "dados.isna().sum().sum()\n"
      ],
      "metadata": {
        "id": "SYe1NvSjNSXj"
      },
      "execution_count": null,
      "outputs": []
    }
  ]
}